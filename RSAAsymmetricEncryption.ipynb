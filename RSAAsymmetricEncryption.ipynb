{
 "cells": [
  {
   "cell_type": "markdown",
   "metadata": {},
   "source": [
    "# KDDI SSO Integration - Asymmetric Encryption - C# implementation\n"
   ]
  },
  {
   "cell_type": "markdown",
   "metadata": {},
   "source": [
    "## 1. Prerequisite"
   ]
  },
  {
   "cell_type": "markdown",
   "metadata": {},
   "source": [
    "### 1.1 Install .Net libraries"
   ]
  },
  {
   "cell_type": "code",
   "execution_count": 63,
   "metadata": {},
   "outputs": [],
   "source": [
    "using System;\n",
    "using System.Security.Cryptography;\n",
    "using System.Text;"
   ]
  },
  {
   "cell_type": "markdown",
   "metadata": {},
   "source": [
    "### 1.1. Create RSA Asymmetric Encrpytion - Public and Private keys"
   ]
  },
  {
   "cell_type": "code",
   "execution_count": 64,
   "metadata": {},
   "outputs": [
    {
     "name": "stdout",
     "output_type": "stream",
     "text": [
      "Public Key\n",
      "MIIBCgKCAQEAtL39r4NcPvcAhOxr+uSfXo89HOS0U/IhIL3+VPJPaBIY7i4vQUq+JHCKzHvKLyRI/s32A0qYVHn2jvbXTiMrGXRq2JUmcuZrO915r1B8C/mqArHdWVavmP8Q6NB+8k3CUEVv+joM8yDPvSsQWkcP+jxrm1/7uhIdgu66PeEyH13LQBkPABhZjgkU2iZNFXMv8LDYGjBVLSihsCEjEShhzz1dSJxhhQ/bJ8r53CoMnVViUrutPUpsOkJ/0CJxyCTK6CQ1XSf6AxV0qccM+qKqjvylVTH9JMwcUqE0nqw3M4o8GTb1RdENtPUy9rvJiVQ+6+HZoGLP6RYyWb5C2rZPZwIDAQAB\n",
      "Private Key\n",
      "MIIEpAIBAAKCAQEAtL39r4NcPvcAhOxr+uSfXo89HOS0U/IhIL3+VPJPaBIY7i4vQUq+JHCKzHvKLyRI/s32A0qYVHn2jvbXTiMrGXRq2JUmcuZrO915r1B8C/mqArHdWVavmP8Q6NB+8k3CUEVv+joM8yDPvSsQWkcP+jxrm1/7uhIdgu66PeEyH13LQBkPABhZjgkU2iZNFXMv8LDYGjBVLSihsCEjEShhzz1dSJxhhQ/bJ8r53CoMnVViUrutPUpsOkJ/0CJxyCTK6CQ1XSf6AxV0qccM+qKqjvylVTH9JMwcUqE0nqw3M4o8GTb1RdENtPUy9rvJiVQ+6+HZoGLP6RYyWb5C2rZPZwIDAQABAoIBADYhoNTsFriU6Ybl+AEQb9q2M6tvo8JwhhN0U7PFTprwsJ7FHkoDxKbNPgS4Hnm3+FS4ArJBqRXD4WA39YvlZIcfItDy+qz27a7kSgmDpWNAxvY/pveWysibu8i+iQaw2z2HTl42/KHkddNGDoO7PMHJTsEeIho8SrJoJUdbJtPVlf32WcSwVkRLkD+fVXWARJzEIq8F081paSafQhjNc8qcd5d9cAt3iI/U3xHvACl9YNKJARz65X4eF73JsG1gwSwOEpmBp5DXkxdEKVc9woV0yyfywmzJy+7oYECKXbB7Fg4x5ESlqfmToKujHfy4ZoLK5lBMnlS9wgV5IBfdbYECgYEA7nCBb+qSSOrGD6LJ6SnWKkLWwyR8RQdayu6Pgcv/M5cvsgbbZmCMZLZ4PsIa7elqFjc6g/6J6ZABiR+zDPNWJoc8q9BCxcg4pI1eU/MMGu8WFR4DazOmvvjwpwU/n05/czKqJF7fNBrqT/gTUlJGWRtqg5G2N1T/FQU+2Yj7YBcCgYEAwg2rqIoY1XfiZM2QmUeej0qCfrhYJ3pN4juxwe2Sm+6yz8bTt1yMzQBoZVlrRxOG/uV8ADadAJdSQovlr/gBvF3IuN/XyEHCn9D7ACVI6JXXN57fIsXXdwJM3dNMlXUtwgyv8lzFu1pSVK7/JtKYXi6QJ6LaGz9dTMNRldweTTECgYEApF5WPEpeEXoWkwzLV7qJcpSk690o9YT+Z8pQj0+LW4srS/RCJq8D2SGYftrcKYmwoiPsaLV9aM7m4BpEGfddOi4b+u0UOretpHH3xrNTcvXCKUiJXss6dYeyjdCmbTF11nnkpDHqeEbdo8cFusgQyriFkrFOBZLITTtSei9d6n0CgYARBEfgULPazFeDBW+/sUMbR6pn2FyKobQAucFdwyqPGACALexU8P274GRHNu8sXW8CHTehgSiFa7+f7EqpArOMRCEc7Swr+HBLuXS5T4u0Maeczga9MuIxIneBIE1f8dWgZaJsO2xvgH0lxe7EBcWsxKKJh0NfDlBtMdeOr63MkQKBgQDSlXpW80WbN47qm0dicezTK5ueOxvedT2mnO19CUvkbn9HaupxVWGsALOqReyWymSvmuByYCrorw6Q9+d4q/g7WFFw3Wf60dqu+HNOGQW1uvI2rU5iD74fRwoYIhzvTg3C+X23MMnRb+ki5kwEmWu1X/hiQbJPXMa6D7rj6S4S/w==\n"
     ]
    }
   ],
   "source": [
    "RSA rsa = RSA.Create();\n",
    "var publicKey =  rsa.ExportRSAPublicKey();\n",
    "var privateKey = rsa.ExportRSAPrivateKey();\n",
    "\n",
    "Console.WriteLine(\"Public Key\" + \"\\n\" + Convert.ToBase64String(publicKey));\n",
    "Console.WriteLine(\"Private Key\" + \"\\n\" + Convert.ToBase64String(privateKey));"
   ]
  },
  {
   "cell_type": "code",
   "execution_count": 65,
   "metadata": {},
   "outputs": [
    {
     "name": "stdout",
     "output_type": "stream",
     "text": [
      "Modulus - tL39r4NcPvcAhOxr+uSfXo89HOS0U/IhIL3+VPJPaBIY7i4vQUq+JHCKzHvKLyRI/s32A0qYVHn2jvbXTiMrGXRq2JUmcuZrO915r1B8C/mqArHdWVavmP8Q6NB+8k3CUEVv+joM8yDPvSsQWkcP+jxrm1/7uhIdgu66PeEyH13LQBkPABhZjgkU2iZNFXMv8LDYGjBVLSihsCEjEShhzz1dSJxhhQ/bJ8r53CoMnVViUrutPUpsOkJ/0CJxyCTK6CQ1XSf6AxV0qccM+qKqjvylVTH9JMwcUqE0nqw3M4o8GTb1RdENtPUy9rvJiVQ+6+HZoGLP6RYyWb5C2rZPZw==\n",
      "Exponent - AQAB\n"
     ]
    }
   ],
   "source": [
    "RSAParameters rsaKeyInfo = rsa.ExportParameters(false);\n",
    "Console.WriteLine(nameof(rsaKeyInfo.Modulus) + \" - \" + Convert.ToBase64String(rsaKeyInfo.Modulus));\n",
    "Console.WriteLine(nameof(rsaKeyInfo.Exponent)  + \" - \" + Convert.ToBase64String(rsaKeyInfo.Exponent));"
   ]
  },
  {
   "cell_type": "markdown",
   "metadata": {},
   "source": [
    "DisplayBytes(nameof(publicKey), publicKey);\n",
    "DisplayBytes(nameof(privateKey), privateKey);"
   ]
  },
  {
   "cell_type": "markdown",
   "metadata": {},
   "source": [
    "## 3. Encrypt Data using public key"
   ]
  },
  {
   "cell_type": "markdown",
   "metadata": {},
   "source": [
    "### 3.1. Create data string capturing data attributes"
   ]
  },
  {
   "cell_type": "code",
   "execution_count": 66,
   "metadata": {},
   "outputs": [],
   "source": [
    "string data = \"UserName=KDDICLP&Password=password&CustomerId=12234567890&PhoneNumber=7025563158&DateOfBirth=10171984\";"
   ]
  },
  {
   "cell_type": "markdown",
   "metadata": {},
   "source": [
    "### 3.2 Convert Data to bytes"
   ]
  },
  {
   "cell_type": "code",
   "execution_count": 67,
   "metadata": {},
   "outputs": [],
   "source": [
    "var encryptedText = rsa.Encrypt(Encoding.ASCII.GetBytes(data), RSAEncryptionPadding.Pkcs1);"
   ]
  },
  {
   "cell_type": "code",
   "execution_count": 68,
   "metadata": {},
   "outputs": [
    {
     "name": "stdout",
     "output_type": "stream",
     "text": [
      "Encrypted Data - EzH2qsn1KacYa+zPLHl0mfb6f399HugCCx6ypzqRZ5EHwwiD3KENFCm8ovYzoAPYaAee9PoyGlFGHLe/rqx7Jy3XEt2Ys8vSGZt6uMZ95yeUiusr7hpPSByxjlQx8bWP4z1RtQgc4kh1t5qwDAvK0/C8SUOxc9ONj0s2iGAbBuikzlhrc22HinjfguyJRHTfh2zpGVgjMQPniIVgqy5m6O2pZglMFPO2fJVH2bsAgeR/mvgL44OQQpQ0Nm2GKfoTqPrl6+k5uHLjA54FlQjYbaIADFM2WIK12b6417PoX8iGlQELp3Y52sAALj0th/OaxJlIlix7UQtTJx/LMFMU3A==\n"
     ]
    }
   ],
   "source": [
    "Console.WriteLine(\"Encrypted Data\" + \" - \" + Convert.ToBase64String(encryptedText));"
   ]
  },
  {
   "cell_type": "markdown",
   "metadata": {},
   "source": [
    "### 3.3 Send POST request"
   ]
  },
  {
   "cell_type": "code",
   "execution_count": 69,
   "metadata": {},
   "outputs": [],
   "source": [
    "/*????*/"
   ]
  },
  {
   "cell_type": "markdown",
   "metadata": {},
   "source": [
    "## 4. Decrypt Data using Private Key - [This is work in Progress]"
   ]
  },
  {
   "cell_type": "markdown",
   "metadata": {},
   "source": [
    "### 4.1 Use encryted byte array to decrypt"
   ]
  },
  {
   "cell_type": "code",
   "execution_count": 79,
   "metadata": {},
   "outputs": [],
   "source": [
    "var decryptedText = rsa.Decrypt(encryptedText, RSAEncryptionPadding.Pkcs1);"
   ]
  },
  {
   "cell_type": "code",
   "execution_count": 80,
   "metadata": {},
   "outputs": [
    {
     "name": "stdout",
     "output_type": "stream",
     "text": [
      "VXNlck5hbWU9S0RESUNMUCZQYXNzd29yZD1wYXNzd29yZCZDdXN0b21lcklkPTEyMjM0NTY3ODkwJlBob25lTnVtYmVyPTcwMjU1NjMxNTgmRGF0ZU9mQmlydGg9MTAxNzE5ODQ=\n"
     ]
    }
   ],
   "source": [
    "Console.WriteLine(Convert.ToBase64String(decryptedText));"
   ]
  },
  {
   "cell_type": "markdown",
   "metadata": {},
   "source": [
    "### 4.2 Decrypted Data"
   ]
  },
  {
   "cell_type": "code",
   "execution_count": 81,
   "metadata": {},
   "outputs": [
    {
     "name": "stdout",
     "output_type": "stream",
     "text": [
      "Source Data - UserName=KDDICLP&Password=password&CustomerId=12234567890&PhoneNumber=7025563158&DateOfBirth=10171984\n"
     ]
    }
   ],
   "source": [
    "Console.WriteLine(\"Source Data\" + \" - \" + System.Text.Encoding.UTF8.GetString(decryptedText));"
   ]
  },
  {
   "cell_type": "code",
   "execution_count": null,
   "metadata": {},
   "outputs": [],
   "source": []
  }
 ],
 "metadata": {
  "kernelspec": {
   "display_name": ".NET (C#)",
   "language": "C#",
   "name": ".net-csharp"
  },
  "language_info": {
   "file_extension": ".cs",
   "mimetype": "text/x-csharp",
   "name": "C#",
   "pygments_lexer": "csharp",
   "version": "8.0"
  }
 },
 "nbformat": 4,
 "nbformat_minor": 4
}
