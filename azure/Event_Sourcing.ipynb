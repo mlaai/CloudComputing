{
  "nbformat": 4,
  "nbformat_minor": 0,
  "metadata": {
    "colab": {
      "name": "Event Sourcing",
      "provenance": [],
      "collapsed_sections": []
    },
    "kernelspec": {
      "name": "python3",
      "display_name": "Python 3"
    }
  },
  "cells": [
    {
      "cell_type": "markdown",
      "metadata": {
        "id": "XzKgcvPDnhUV",
        "colab_type": "text"
      },
      "source": [
        "**Event Sourcing**"
      ]
    },
    {
      "cell_type": "markdown",
      "metadata": {
        "id": "3tay3rbHnXCg",
        "colab_type": "text"
      },
      "source": [
        "![GitHub Logo](https://app.lucidchart.com/publicSegments/view/bcc92596-04f0-45ab-b4c5-a86e2580d336/image.jpeg)"
      ]
    }
  ]
}