{
  "nbformat": 4,
  "nbformat_minor": 0,
  "metadata": {
    "colab": {
      "name": "CQRS",
      "provenance": [],
      "collapsed_sections": []
    },
    "kernelspec": {
      "name": "python3",
      "display_name": "Python 3"
    }
  },
  "cells": [
    {
      "cell_type": "markdown",
      "metadata": {
        "id": "7NU4xxPjmzFm",
        "colab_type": "text"
      },
      "source": [
        "**CQRS**"
      ]
    },
    {
      "cell_type": "markdown",
      "metadata": {
        "id": "5CN8BnRfm3ZF",
        "colab_type": "text"
      },
      "source": [
        "\n",
        "![GitHub Logo](https://app.lucidchart.com/publicSegments/view/78c657c8-3357-45ed-abae-83355686fcf4/image.jpeg)"
      ]
    }
  ]
}