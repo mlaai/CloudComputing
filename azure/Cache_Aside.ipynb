{
  "nbformat": 4,
  "nbformat_minor": 0,
  "metadata": {
    "colab": {
      "name": "Cache-Aside",
      "provenance": [],
      "collapsed_sections": []
    },
    "kernelspec": {
      "name": "python3",
      "display_name": "Python 3"
    }
  },
  "cells": [
    {
      "cell_type": "markdown",
      "metadata": {
        "id": "ICluMzx0Eip_",
        "colab_type": "text"
      },
      "source": [
        "# **Azure - Cloud Design Patterns**\n",
        "\n",
        "##**Cache-Aside**\n",
        "\n",
        "\n"
      ]
    },
    {
      "cell_type": "markdown",
      "metadata": {
        "id": "O1AIxOVNjdTN",
        "colab_type": "text"
      },
      "source": [
        "![GitHub Logo](https://app.lucidchart.com/publicSegments/view/d2c85635-df95-4b84-8319-5cc33c422a3f/image.jpeg)"
      ]
    },
    {
      "cell_type": "code",
      "metadata": {
        "id": "Kfpvo5QlE7uu",
        "colab_type": "code",
        "colab": {}
      },
      "source": [
        ""
      ],
      "execution_count": null,
      "outputs": []
    }
  ]
}
